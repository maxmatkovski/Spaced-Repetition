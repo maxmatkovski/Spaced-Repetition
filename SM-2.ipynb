{
 "cells": [
  {
   "cell_type": "markdown",
   "id": "eac9b1d2",
   "metadata": {},
   "source": [
    "### SM-2 (SuperMemo)"
   ]
  },
  {
   "cell_type": "code",
   "execution_count": 1,
   "id": "6a82db9a",
   "metadata": {},
   "outputs": [
    {
     "name": "stdout",
     "output_type": "stream",
     "text": [
      "Next interval: 1 days\n",
      "Repetitions: 1\n",
      "Ease factor: 2.50\n"
     ]
    }
   ],
   "source": [
    "class SM2:\n",
    "    def __init__(self):\n",
    "        self.interval = 0\n",
    "        self.repetitions = 0\n",
    "        self.ease_factor = 2.5\n",
    "\n",
    "    def calculate(self, quality):\n",
    "        if quality >= 3:\n",
    "            if self.repetitions == 0:\n",
    "                self.interval = 1\n",
    "            elif self.repetitions == 1:\n",
    "                self.interval = 6\n",
    "            else:\n",
    "                self.interval = round(self.interval * self.ease_factor)\n",
    "            \n",
    "            self.ease_factor += (0.1 - (5 - quality) * (0.08 + (5 - quality) * 0.02))\n",
    "            self.ease_factor = max(1.3, self.ease_factor)\n",
    "            self.repetitions += 1\n",
    "        else:\n",
    "            self.interval = 1\n",
    "            self.repetitions = 0\n",
    "        \n",
    "        return self.interval, self.repetitions, self.ease_factor\n",
    "\n",
    "# Usage example\n",
    "sm2 = SM2()\n",
    "interval, repetitions, ease_factor = sm2.calculate(4)\n",
    "print(f\"Next interval: {interval} days\")\n",
    "print(f\"Repetitions: {repetitions}\")\n",
    "print(f\"Ease factor: {ease_factor:.2f}\")\n"
   ]
  },
  {
   "cell_type": "markdown",
   "id": "59c3e064",
   "metadata": {},
   "source": [
    "### FSRS"
   ]
  },
  {
   "cell_type": "code",
   "execution_count": 2,
   "id": "f353008d",
   "metadata": {},
   "outputs": [
    {
     "name": "stdout",
     "output_type": "stream",
     "text": [
      "New difficulty: 5.00\n",
      "New stability: 763.85\n",
      "Next review due: 2105-05-25 00:00:00\n"
     ]
    }
   ],
   "source": [
    "import math\n",
    "\n",
    "class FSRS:\n",
    "    def __init__(self):\n",
    "        self.w = {\n",
    "            0: 0.40255, 1: 1.18385, 2: 3.173, 3: 15.69105, 4: 7.1949, 5: 0.5345,\n",
    "            6: 1.4604, 7: 0.0046, 8: 1.54575, 9: 0.1192, 10: 1.01925, 11: 1.9395,\n",
    "            12: 0.11, 13: 0.29605, 14: 2.2698, 15: 0.2315, 16: 2.9898, 17: 0.51655, 18: 0.6621\n",
    "        }\n",
    "        self.decay = -0.5\n",
    "        self.factor = 19/81\n",
    "        self.min_difficulty = 1\n",
    "        self.max_difficulty = 10\n",
    "\n",
    "    def retrievability(self, t, s):\n",
    "        return math.pow(1 + self.factor * t / s, self.decay)\n",
    "\n",
    "    def difficulty(self, d, rating):\n",
    "        return max(self.min_difficulty, min(self.max_difficulty, d + self.w[0] * (3 - rating)))\n",
    "\n",
    "    def stability(self, s, d, r, rating):\n",
    "        hard = 1 if rating == 2 else 0\n",
    "        easy = 1 if rating == 4 else 0\n",
    "        new_s = s * (1 + math.exp(self.w[1]) * (11 - d) * math.pow(s, -self.w[2]) * \n",
    "                     (math.exp((1 - r) * self.w[3]) - 1) * self.w[4] / (1 + self.w[5] * hard) * \n",
    "                     (1 + self.w[6] * easy))\n",
    "        return max(0.1, new_s)\n",
    "\n",
    "    def next_interval(self, s):\n",
    "        return math.ceil(s * 9 / self.factor)\n",
    "\n",
    "    def calculate(self, difficulty, stability, last_review, now, rating):\n",
    "        elapsed = (now - last_review).days\n",
    "        r = self.retrievability(elapsed, stability)\n",
    "        new_d = self.difficulty(difficulty, rating)\n",
    "        new_s = self.stability(stability, difficulty, r, rating)\n",
    "        next_due = now + timedelta(days=self.next_interval(new_s))\n",
    "        return new_d, new_s, next_due\n",
    "\n",
    "# Usage example\n",
    "from datetime import datetime, timedelta\n",
    "\n",
    "fsrs = FSRS()\n",
    "difficulty = 5\n",
    "stability = 2\n",
    "last_review = datetime(2025, 2, 20)\n",
    "now = datetime(2025, 2, 25)\n",
    "rating = 3\n",
    "\n",
    "new_difficulty, new_stability, next_due = fsrs.calculate(difficulty, stability, last_review, now, rating)\n",
    "print(f\"New difficulty: {new_difficulty:.2f}\")\n",
    "print(f\"New stability: {new_stability:.2f}\")\n",
    "print(f\"Next review due: {next_due}\")\n"
   ]
  },
  {
   "cell_type": "code",
   "execution_count": null,
   "id": "dc98fbe7",
   "metadata": {},
   "outputs": [],
   "source": []
  }
 ],
 "metadata": {
  "kernelspec": {
   "display_name": "Python 3 (ipykernel)",
   "language": "python",
   "name": "python3"
  },
  "language_info": {
   "codemirror_mode": {
    "name": "ipython",
    "version": 3
   },
   "file_extension": ".py",
   "mimetype": "text/x-python",
   "name": "python",
   "nbconvert_exporter": "python",
   "pygments_lexer": "ipython3",
   "version": "3.11.5"
  }
 },
 "nbformat": 4,
 "nbformat_minor": 5
}
